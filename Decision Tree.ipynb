{
 "cells": [
  {
   "cell_type": "code",
   "execution_count": 52,
   "id": "b844386b",
   "metadata": {},
   "outputs": [
    {
     "data": {
      "text/plain": [
       "5.082851303640888"
      ]
     },
     "execution_count": 52,
     "metadata": {},
     "output_type": "execute_result"
    }
   ],
   "source": [
    "import pandas as pd\n",
    "import numpy as np\n",
    "from sklearn.tree import DecisionTreeRegressor\n",
    "from sklearn.model_selection import train_test_split\n",
    "from sklearn.metrics import mean_squared_error\n",
    "from sklearn.preprocessing import LabelEncoder\n",
    "from sklearn.preprocessing import StandardScaler\n",
    "\n",
    "\n",
    "bike_data = pd.read_excel('99Bikers_Raw_data.xlsx')\n",
    "bike_data['standard_cost'] = bike_data['standard_cost'].replace('$', '').astype(float)\n",
    "bike_data['year'] = bike_data['transaction_date'].dt.year\n",
    "bike_data['month'] = bike_data['transaction_date'].dt.month\n",
    "bike_data['day'] = bike_data['transaction_date'].dt.day\n",
    "\n",
    "\n",
    "label_encoder = LabelEncoder()\n",
    "bike_data['product_class_encoded'] = label_encoder.fit_transform(bike_data['product_class'])\n",
    "bike_data['product_class_size'] = label_encoder.fit_transform(bike_data['product_size'])\n",
    "bike_data['online_order_encoded'] = label_encoder.fit_transform(bike_data['online_order'])\n",
    "bike_data['order_status_encoded'] = label_encoder.fit_transform(bike_data['order_status'])\n",
    "\n",
    "bike_data.drop(columns=['transaction_date'], inplace=True)\n",
    "bike_data.drop(columns=['online_order'], inplace=True)\n",
    "bike_data.drop(columns=['order_status'], inplace=True)\n",
    "bike_data.drop(columns=['brand'], inplace=True)\n",
    "bike_data.drop(columns=['product_class'], inplace=True)\n",
    "bike_data.drop(columns=['product_size'], inplace=True)\n",
    "bike_data.drop(columns=['product_line'], inplace=True)\n",
    "\n",
    "X = bike_data.drop(columns = ['standard_cost'])\n",
    "y = bike_data['standard_cost']\n",
    "\n",
    "X_train, X_test, y_train, y_test = train_test_split(X,y, test_size = 0.2)\n",
    "\n",
    "X_train = X_train.fillna(X_train.mean())\n",
    "X_test = X_test.fillna(X_test.mean())\n",
    "y_train = y_train.fillna(y_train.mean())\n",
    "y_test = y_test.fillna(y_test.mean())\n",
    "\n",
    "scaler = StandardScaler()\n",
    "X_train_scaled = scaler.fit_transform(X_train)\n",
    "X_test_scaled = scaler.transform(X_test)\n",
    "y_test = y_test.replace([np.inf, -np.inf], np.nan).dropna()\n",
    "\n",
    "model = DecisionTreeRegressor()\n",
    "model.fit(X_train_scaled,y_train)\n",
    "predictions = model.predict(X_test_scaled)\n",
    "\n",
    "mse = mean_squared_error(y_test,predictions)\n",
    "mse"
   ]
  },
  {
   "cell_type": "code",
   "execution_count": null,
   "id": "5d87833f",
   "metadata": {},
   "outputs": [],
   "source": []
  }
 ],
 "metadata": {
  "kernelspec": {
   "display_name": "Python 3 (ipykernel)",
   "language": "python",
   "name": "python3"
  },
  "language_info": {
   "codemirror_mode": {
    "name": "ipython",
    "version": 3
   },
   "file_extension": ".py",
   "mimetype": "text/x-python",
   "name": "python",
   "nbconvert_exporter": "python",
   "pygments_lexer": "ipython3",
   "version": "3.9.7"
  }
 },
 "nbformat": 4,
 "nbformat_minor": 5
}
